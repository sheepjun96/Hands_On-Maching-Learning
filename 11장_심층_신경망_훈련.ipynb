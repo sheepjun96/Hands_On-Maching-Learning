{
  "nbformat": 4,
  "nbformat_minor": 0,
  "metadata": {
    "colab": {
      "provenance": [],
      "authorship_tag": "ABX9TyM+YndQb8+5mkbA8YTbIw4a",
      "include_colab_link": true
    },
    "kernelspec": {
      "name": "python3",
      "display_name": "Python 3"
    },
    "language_info": {
      "name": "python"
    }
  },
  "cells": [
    {
      "cell_type": "markdown",
      "metadata": {
        "id": "view-in-github",
        "colab_type": "text"
      },
      "source": [
        "<a href=\"https://colab.research.google.com/github/sheepjun96/Hands_On-Maching-Learning/blob/main/11%EC%9E%A5_%EC%8B%AC%EC%B8%B5_%EC%8B%A0%EA%B2%BD%EB%A7%9D_%ED%9B%88%EB%A0%A8.ipynb\" target=\"_parent\"><img src=\"https://colab.research.google.com/assets/colab-badge.svg\" alt=\"Open In Colab\"/></a>"
      ]
    },
    {
      "cell_type": "code",
      "execution_count": 1,
      "metadata": {
        "id": "ARxAS5oomb2X",
        "colab": {
          "base_uri": "https://localhost:8080/"
        },
        "outputId": "c54d27a0-91f7-4bb9-9540-5507eb16ca8c"
      },
      "outputs": [
        {
          "output_type": "stream",
          "name": "stdout",
          "text": [
            "debconf: unable to initialize frontend: Dialog\n",
            "debconf: (No usable dialog-like program is installed, so the dialog based frontend cannot be used. at /usr/share/perl5/Debconf/FrontEnd/Dialog.pm line 78, <> line 1.)\n",
            "debconf: falling back to frontend: Readline\n",
            "debconf: unable to initialize frontend: Readline\n",
            "debconf: (This frontend requires a controlling tty.)\n",
            "debconf: falling back to frontend: Teletype\n",
            "dpkg-preconfigure: unable to re-open stdin: \n",
            "Selecting previously unselected package fonts-nanum.\n",
            "(Reading database ... 121749 files and directories currently installed.)\n",
            "Preparing to unpack .../fonts-nanum_20200506-1_all.deb ...\n",
            "Unpacking fonts-nanum (20200506-1) ...\n",
            "Setting up fonts-nanum (20200506-1) ...\n",
            "Processing triggers for fontconfig (2.13.1-4.2ubuntu5) ...\n"
          ]
        }
      ],
      "source": [
        "import sys\n",
        "# 코랩의 경우 나눔 폰트를 설치합니다.\n",
        "if 'google.colab' in sys.modules:\n",
        "    !sudo apt-get -qq -y install fonts-nanum\n",
        "    import matplotlib.font_manager as fm\n",
        "    font_files = fm.findSystemFonts(fontpaths=['/usr/share/fonts/truetype/nanum'])\n",
        "    for fpath in font_files:\n",
        "        fm.fontManager.addfont(fpath)\n",
        "\n",
        "# 나눔 폰트를 사용합니다.\n",
        "import matplotlib\n",
        "\n",
        "matplotlib.rc('font', family='NanumBarunGothic')\n",
        "matplotlib.rcParams['axes.unicode_minus'] = False"
      ]
    },
    {
      "cell_type": "markdown",
      "source": [
        "# 11.1 그레이디언트 소실과 폭주 문제"
      ],
      "metadata": {
        "id": "0ovT1z0znF9u"
      }
    },
    {
      "cell_type": "code",
      "source": [
        "import numpy as np\n",
        "import matplotlib.pyplot as plt\n",
        "\n",
        "def sigmoid(z):\n",
        "    return 1 / (1 + np.exp(-z))\n",
        "\n",
        "z = np.linspace(-5, 5, 200)\n",
        "z[::10]"
      ],
      "metadata": {
        "colab": {
          "base_uri": "https://localhost:8080/"
        },
        "id": "Eb9vRhLrnB3J",
        "outputId": "8c80d0d6-c8cb-40d3-ea8f-d8ff5589d20a"
      },
      "execution_count": 2,
      "outputs": [
        {
          "output_type": "execute_result",
          "data": {
            "text/plain": [
              "array([-5.        , -4.49748744, -3.99497487, -3.49246231, -2.98994975,\n",
              "       -2.48743719, -1.98492462, -1.48241206, -0.9798995 , -0.47738693,\n",
              "        0.02512563,  0.52763819,  1.03015075,  1.53266332,  2.03517588,\n",
              "        2.53768844,  3.04020101,  3.54271357,  4.04522613,  4.54773869])"
            ]
          },
          "metadata": {},
          "execution_count": 2
        }
      ]
    },
    {
      "cell_type": "code",
      "source": [
        "plt.plot([-5, 5], [0, 0], 'k-')\n",
        "plt.plot([-5, 5], [1, 1], 'k--')\n",
        "plt.plot([0, 0], [-0.2, 1.2], 'k-')\n",
        "plt.plot([-5, 5], [-3/4, 7/4], 'g--')\n",
        "plt.plot(z, sigmoid(z), \"b-\", linewidth=2,\n",
        "         label=r\"$\\sigma(z) = \\dfrac{1}{1+e^{-z}}$\")\n",
        "props = dict(facecolor='black', shrink=0.1)\n",
        "plt.annotate('포화', xytext=(3.5, 0.7), xy=(5, 1), arrowprops=props,\n",
        "             fontsize=14, ha=\"center\")\n",
        "plt.annotate('포화', xytext=(-3.5, 0.3), xy=(-5, 0), arrowprops=props,\n",
        "             fontsize=14, ha=\"center\")\n",
        "plt.annotate('선형', xytext=(2, 0.2), xy=(0, 0.5), arrowprops=props,\n",
        "             fontsize=14, ha=\"center\")\n",
        "plt.grid(True)\n",
        "plt.axis([-5, 5, -0.2, 1.2])\n",
        "plt.xlabel(\"$z$\")\n",
        "plt.legend(loc=\"upper left\", fontsize=16)\n",
        "\n",
        "plt.show()"
      ],
      "metadata": {
        "colab": {
          "base_uri": "https://localhost:8080/",
          "height": 454
        },
        "id": "kwksPJuhnVLH",
        "outputId": "2a1ac2d6-fc0d-4c0f-b899-34a91d8c1bf4"
      },
      "execution_count": 3,
      "outputs": [
        {
          "output_type": "display_data",
          "data": {
            "text/plain": [
              "<Figure size 640x480 with 1 Axes>"
            ],
            "image/png": "[encoded data removed]"
          },
          "metadata": {}
        }
      ]
    },
    {
      "cell_type": "markdown",
      "source": [
        "# 글로럿과 He 초기화"
      ],
      "metadata": {
        "id": "qfMBpFmAoHIi"
      }
    },
    {
      "cell_type": "code",
      "source": [
        "import tensorflow as tf\n",
        "\n",
        "dense = tf.keras.layers.Dense(50, activation=\"relu\",\n",
        "                              kernel_initializer=\"he_normal\")"
      ],
      "metadata": {
        "id": "tURGawrDn-OV"
      },
      "execution_count": 4,
      "outputs": []
    },
    {
      "cell_type": "markdown",
      "source": [
        "fan_in 대신 fan_avg을 기반으로 He 초기화"
      ],
      "metadata": {
        "id": "scqhVRekowzc"
      }
    },
    {
      "cell_type": "code",
      "source": [
        "he_avg_init = tf.keras.initializers.VarianceScaling(scale=2., mode=\"fan_avg\",\n",
        "                                                    distribution=\"uniform\")\n",
        "dense = tf.keras.layers.Dense(50, activation=\"sigmoid\",\n",
        "                              kernel_initializer=he_avg_init)"
      ],
      "metadata": {
        "id": "WybAjq_CoVDS"
      },
      "execution_count": 5,
      "outputs": []
    },
    {
      "cell_type": "markdown",
      "source": [
        "# 고급 활성화 함수"
      ],
      "metadata": {
        "id": "IP1Zioy5o5j6"
      }
    },
    {
      "cell_type": "markdown",
      "source": [
        "# LeakyReLU"
      ],
      "metadata": {
        "id": "cPk0a30soqzs"
      }
    },
    {
      "cell_type": "code",
      "source": [
        "def leaky_relu(z, alpha):\n",
        "    return np.maximum(alpha * z, z)"
      ],
      "metadata": {
        "id": "8oMtig0xpAJU"
      },
      "execution_count": 6,
      "outputs": []
    },
    {
      "cell_type": "code",
      "source": [
        "z = np.linspace(-5, 5, 200)\n",
        "plt.plot(z, leaky_relu(z, 0.1), \"b-\", linewidth=2, label=r\"$LeakyReLU(z) = max(\\alpha z, z)$\")\n",
        "plt.plot([-5, 5], [0, 0], 'k-')\n",
        "plt.plot([0, 0], [-1, 3.7], 'k-')\n",
        "plt.grid(True)\n",
        "props = dict(facecolor='black', shrink=0.1)\n",
        "plt.annotate('통과', xytext=(-3.5, 0.5), xy=(-5, -0.3), arrowprops=props,\n",
        "             fontsize=14, ha=\"center\")\n",
        "plt.xlabel(\"$z$\")\n",
        "plt.axis([-5, 5, -1, 3.7])\n",
        "plt.gca().set_aspect(\"equal\")\n",
        "plt.legend()\n",
        "\n",
        "plt.show()"
      ],
      "metadata": {
        "colab": {
          "base_uri": "https://localhost:8080/",
          "height": 313
        },
        "id": "HfNJWJfHpHAk",
        "outputId": "56d7d598-0555-4f74-8aa5-5dacf1a51eb8"
      },
      "execution_count": 7,
      "outputs": [
        {
          "output_type": "display_data",
          "data": {
            "text/plain": [
              "<Figure size 640x480 with 1 Axes>"
            ],
            "image/png": "[encoded data removed]"
          },
          "metadata": {}
        }
      ]
    },
    {
      "cell_type": "code",
      "source": [
        "# LeakyReLU를 별도의 층으로 모델에 추가할 수 있다.\n",
        "model = tf.keras.models.Sequential([\n",
        "    # [...]  # 다른 층\n",
        "    tf.keras.layers.Dense(50, kernel_initializer=\"he_normal\"),  # 활성화 함수 없음\n",
        "    tf.keras.layers.LeakyReLU(alpha=0.2),  # 별도의 층으로 활성화 함수 추가\n",
        "    # [...]  # 다른 층\n",
        "])"
      ],
      "metadata": {
        "id": "Jwkhsc_mqa-f"
      },
      "execution_count": 8,
      "outputs": []
    },
    {
      "cell_type": "markdown",
      "source": [
        "# ELU"
      ],
      "metadata": {
        "id": "F9M3TBgAqr1l"
      }
    },
    {
      "cell_type": "code",
      "source": [
        "dense = tf.keras.layers.Dense(50, activation=\"elu\",\n",
        "                              kernel_initializer=\"he_normal\")"
      ],
      "metadata": {
        "id": "1Mz3EIl6qpuW"
      },
      "execution_count": 9,
      "outputs": []
    },
    {
      "cell_type": "markdown",
      "source": [
        "# SELU"
      ],
      "metadata": {
        "id": "WOBcZlp_roXx"
      }
    },
    {
      "cell_type": "markdown",
      "source": [
        "기본적으로 SELU 하이퍼파라미터(scale 및 alpha)는 각 뉴런의 평균 출력이 0, 표준편차가 1에 가깝게 유지되도록 튜닝됩니다(책에서 설명한 대로 입력도 평균 0과 표준편차 1로 표준화되고 다른 제약 조건이 준수된다고 가정합니다). 이 활성화 함수를 사용하면 1,000개 층을 가진 심층 신경망에서도 모든 층에서 대략 평균 0과 표준편차 1을 유지하여 기울기가 폭주/소멸하는 문제를 피할 수 있습니다:"
      ],
      "metadata": {
        "id": "3QOneO9Rrtgw"
      }
    },
    {
      "cell_type": "code",
      "source": [
        "from scipy.special import erfc\n",
        "\n",
        "alpha_0_1 = -np.sqrt(2 / np.pi) / (erfc(1 / np.sqrt(2)) * np.exp(1 / 2) - 1)\n",
        "scale_0_1 = (\n",
        "    (1 - erfc(1 / np.sqrt(2)) * np.sqrt(np.e))\n",
        "    * np.sqrt(2 * np.pi)\n",
        "    * (\n",
        "        2 * erfc(np.sqrt(2)) * np.e ** 2\n",
        "        + np.pi * erfc(1 / np.sqrt(2)) ** 2 * np.e\n",
        "        - 2 * (2 + np.pi) * erfc(1 / np.sqrt(2)) * np.sqrt(np.e)\n",
        "        + np.pi\n",
        "        + 2\n",
        "    ) ** (-1 / 2)\n",
        ")\n",
        "\n",
        "def elu(z, alpha=1):\n",
        "    return np.where(z < 0, alpha * (np.exp(z) - 1), z)\n",
        "\n",
        "def selu(z, scale=scale_0_1, alpha=alpha_0_1):\n",
        "    return scale * elu(z, alpha)\n",
        "\n",
        "z = np.linspace(-5, 5, 200)\n",
        "plt.plot(z, elu(z), \"b-\", linewidth=2, label=r\"$z < 0$ 이면 ELU$_\\alpha(z) = \\alpha (e^z - 1)$, 아니면 $z$\")\n",
        "plt.plot(z, selu(z), \"r--\", linewidth=2, label=r\"SELU$(z) = 1.05 \\, $ELU$_{1.67}(z)$\")\n",
        "plt.plot([-5, 5], [0, 0], 'k-')\n",
        "plt.plot([-5, 5], [-1, -1], 'k:', linewidth=2)\n",
        "plt.plot([-5, 5], [-1.758, -1.758], 'k:', linewidth=2)\n",
        "plt.plot([0, 0], [-2.2, 3.2], 'k-')\n",
        "plt.grid(True)\n",
        "plt.axis([-5, 5, -2.2, 3.2])\n",
        "plt.xlabel(\"$z$\")\n",
        "plt.gca().set_aspect(\"equal\")\n",
        "plt.legend()\n",
        "\n",
        "plt.show()"
      ],
      "metadata": {
        "colab": {
          "base_uri": "https://localhost:8080/",
          "height": 348
        },
        "id": "-pswTGctrn4x",
        "outputId": "f7131163-fea4-4af8-cc8a-69c9caa0e37e"
      },
      "execution_count": 10,
      "outputs": [
        {
          "output_type": "display_data",
          "data": {
            "text/plain": [
              "<Figure size 640x480 with 1 Axes>"
            ],
            "image/png": "[encoded data removed]"
          },
          "metadata": {}
        }
      ]
    },
    {
      "cell_type": "markdown",
      "source": [
        "SELU를 사용한 자기 정규화된 네트워크의 예시"
      ],
      "metadata": {
        "id": "r6daCcj_sIDg"
      }
    },
    {
      "cell_type": "code",
      "source": [
        "tf.random.set_seed(42)\n",
        "model = tf.keras.Sequential()\n",
        "model.add(tf.keras.layers.Flatten(input_shape=[28, 28]))\n",
        "for layer in range(100):\n",
        "    model.add(tf.keras.layers.Dense(100, activation=\"selu\",\n",
        "                                    kernel_initializer=\"lecun_normal\"))\n",
        "model.add(tf.keras.layers.Dense(10, activation=\"softmax\"))"
      ],
      "metadata": {
        "id": "h9YwUdshszqB"
      },
      "execution_count": 11,
      "outputs": []
    },
    {
      "cell_type": "code",
      "source": [
        "model.compile(loss=\"sparse_categorical_crossentropy\",\n",
        "              optimizer=tf.keras.optimizers.SGD(learning_rate=0.001),\n",
        "              metrics=[\"accuracy\"])"
      ],
      "metadata": {
        "id": "_e4vlEIbtQjT"
      },
      "execution_count": 12,
      "outputs": []
    },
    {
      "cell_type": "code",
      "source": [
        "# 입력값을 평균 0, 표준편차 1로 스케일해야 한다.\n",
        "fashion_mnist = tf.keras.datasets.fashion_mnist.load_data()"
      ],
      "metadata": {
        "colab": {
          "base_uri": "https://localhost:8080/"
        },
        "id": "eBlmHVTHtStR",
        "outputId": "a6c7e185-c549-4301-c0f6-32fc63a71b67"
      },
      "execution_count": 13,
      "outputs": [
        {
          "output_type": "stream",
          "name": "stdout",
          "text": [
            "Downloading data from https://storage.googleapis.com/tensorflow/tf-keras-datasets/train-labels-idx1-ubyte.gz\n",
            "29515/29515 [==============================] - 0s 0us/step\n",
            "Downloading data from https://storage.googleapis.com/tensorflow/tf-keras-datasets/train-images-idx3-ubyte.gz\n",
            "26421880/26421880 [==============================] - 1s 0us/step\n",
            "Downloading data from https://storage.googleapis.com/tensorflow/tf-keras-datasets/t10k-labels-idx1-ubyte.gz\n",
            "5148/5148 [==============================] - 0s 0us/step\n",
            "Downloading data from https://storage.googleapis.com/tensorflow/tf-keras-datasets/t10k-images-idx3-ubyte.gz\n",
            "4422102/4422102 [==============================] - 1s 0us/step\n"
          ]
        }
      ]
    },
    {
      "cell_type": "code",
      "source": [
        "(X_train_full, y_train_full), (X_test, y_test) = fashion_mnist\n",
        "X_train, y_train = X_train_full[:-5000], y_train_full[:-5000]\n",
        "X_valid, y_valid = X_train_full[-5000:], y_train_full[-5000:]\n",
        "X_train, X_valid, X_test = X_train/255, X_valid/255, X_test/255"
      ],
      "metadata": {
        "id": "Gj5IB2wttyEw"
      },
      "execution_count": 14,
      "outputs": []
    },
    {
      "cell_type": "code",
      "source": [
        "class_names = [\"T-shirt/top\", \"Trouser\", \"Pullover\", \"Dress\", \"Coat\",\n",
        "               \"Sandal\", \"Shirt\", \"Sneaker\", \"Bag\", \"Ankle boot\"]"
      ],
      "metadata": {
        "id": "HTxDhBP5t-uP"
      },
      "execution_count": 15,
      "outputs": []
    },
    {
      "cell_type": "code",
      "source": [
        "pixel_means = X_train.mean(axis=0, keepdims=True)\n",
        "pixel_stds = X_train.std(axis=0, keepdims=True)\n",
        "X_train_scaled = (X_train - pixel_means) / pixel_stds\n",
        "X_valid_scaled = (X_valid - pixel_means) / pixel_stds\n",
        "X_test_scaled = (X_test - pixel_means) / pixel_stds"
      ],
      "metadata": {
        "id": "oxM3zQVFuX4P"
      },
      "execution_count": 16,
      "outputs": []
    },
    {
      "cell_type": "code",
      "source": [
        "history = model.fit(X_train_scaled, y_train, epochs=5,\n",
        "                    validation_data=(X_valid_scaled, y_valid))"
      ],
      "metadata": {
        "colab": {
          "base_uri": "https://localhost:8080/"
        },
        "id": "-W7gKgSLuamn",
        "outputId": "ed048288-7eef-4677-98a7-bbbd6b344679"
      },
      "execution_count": 17,
      "outputs": [
        {
          "output_type": "stream",
          "name": "stdout",
          "text": [
            "Epoch 1/5\n",
            "1719/1719 [==============================] - 50s 24ms/step - loss: 1.3295 - accuracy: 0.4864 - val_loss: 1.0058 - val_accuracy: 0.6120\n",
            "Epoch 2/5\n",
            "1719/1719 [==============================] - 36s 21ms/step - loss: 0.8900 - accuracy: 0.6485 - val_loss: 0.7319 - val_accuracy: 0.7100\n",
            "Epoch 3/5\n",
            "1719/1719 [==============================] - 33s 19ms/step - loss: 0.7957 - accuracy: 0.6848 - val_loss: 0.6974 - val_accuracy: 0.7156\n",
            "Epoch 4/5\n",
            "1719/1719 [==============================] - 39s 22ms/step - loss: 0.6680 - accuracy: 0.7253 - val_loss: 0.6235 - val_accuracy: 0.7646\n",
            "Epoch 5/5\n",
            "1719/1719 [==============================] - 40s 23ms/step - loss: 0.6128 - accuracy: 0.7563 - val_loss: 0.6227 - val_accuracy: 0.7674\n"
          ]
        }
      ]
    },
    {
      "cell_type": "markdown",
      "source": [
        "매우 깊은 신경망인데도 학습에 성공했다.\n",
        "\n",
        "ReLU 활성화 함수를 대신 사용하면 어떻게 될까?"
      ],
      "metadata": {
        "id": "R8xPCZHAunYQ"
      }
    },
    {
      "cell_type": "code",
      "source": [
        "tf.random.set_seed(42)"
      ],
      "metadata": {
        "id": "EF8ubMarudwf"
      },
      "execution_count": 18,
      "outputs": []
    },
    {
      "cell_type": "code",
      "source": [
        "model = tf.keras.Sequential()\n",
        "model.add(tf.keras.layers.Flatten(input_shape=[28, 28]))\n",
        "for layer in range(100):\n",
        "    model.add(tf.keras.layers.Dense(100, activation=\"relu\",\n",
        "                                    kernel_initializer=\"he_normal\"))\n",
        "model.add(tf.keras.layers.Dense(10, activation=\"softmax\"))"
      ],
      "metadata": {
        "id": "OfA4R5TCuve6"
      },
      "execution_count": 19,
      "outputs": []
    },
    {
      "cell_type": "code",
      "source": [
        "model.compile(loss=\"sparse_categorical_crossentropy\",\n",
        "              optimizer=tf.keras.optimizers.SGD(learning_rate=0.001),\n",
        "              metrics=[\"accuracy\"])"
      ],
      "metadata": {
        "id": "DTYmOZY-u5NS"
      },
      "execution_count": 20,
      "outputs": []
    },
    {
      "cell_type": "code",
      "source": [
        "history = model.fit(X_train_scaled, y_train, epochs=5,\n",
        "                    validation_data=(X_valid_scaled, y_valid))"
      ],
      "metadata": {
        "colab": {
          "base_uri": "https://localhost:8080/"
        },
        "id": "dvLWYePyu6gf",
        "outputId": "0e657493-f2ca-491f-8576-e9259176f464"
      },
      "execution_count": 21,
      "outputs": [
        {
          "output_type": "stream",
          "name": "stdout",
          "text": [
            "Epoch 1/5\n",
            "1719/1719 [==============================] - 44s 21ms/step - loss: 1.9323 - accuracy: 0.2340 - val_loss: 1.6809 - val_accuracy: 0.3418\n",
            "Epoch 2/5\n",
            "1719/1719 [==============================] - 37s 22ms/step - loss: 1.3595 - accuracy: 0.4401 - val_loss: 1.0608 - val_accuracy: 0.5658\n",
            "Epoch 3/5\n",
            "1719/1719 [==============================] - 36s 21ms/step - loss: 1.1099 - accuracy: 0.5226 - val_loss: 0.9655 - val_accuracy: 0.5758\n",
            "Epoch 4/5\n",
            "1719/1719 [==============================] - 53s 31ms/step - loss: 0.9898 - accuracy: 0.5722 - val_loss: 0.8520 - val_accuracy: 0.6662\n",
            "Epoch 5/5\n",
            "1719/1719 [==============================] - 42s 25ms/step - loss: 0.8506 - accuracy: 0.6548 - val_loss: 0.8477 - val_accuracy: 0.6828\n"
          ]
        }
      ]
    },
    {
      "cell_type": "markdown",
      "source": [
        "그레이디언트 소멸/폭주 문제를 겪는다."
      ],
      "metadata": {
        "id": "cnN7Fmuqu8Os"
      }
    },
    {
      "cell_type": "markdown",
      "source": [
        "# GELU, Swish, Mish"
      ],
      "metadata": {
        "id": "R4PBKhQLvAWu"
      }
    },
    {
      "cell_type": "code",
      "source": [
        "def swish(z, beta=1):\n",
        "    return z * sigmoid(beta * z)\n",
        "\n",
        "def approx_gelu(z):\n",
        "    return swish(z, beta=1.702)\n",
        "\n",
        "def softplus(z):\n",
        "    return np.log(1 + np.exp(z))\n",
        "\n",
        "def mish(z):\n",
        "    return z * np.tanh(softplus(z))\n",
        "\n",
        "z = np.linspace(-4, 2, 200)\n",
        "\n",
        "beta = 0.6\n",
        "plt.plot(z, approx_gelu(z), \"b-\", linewidth=2,\n",
        "         label=r\"GELU$(z) = z\\,\\Phi(z)$\")\n",
        "plt.plot(z, swish(z), \"r--\", linewidth=2,\n",
        "         label=r\"Swish$(z) = z\\,\\sigma(z)$\")\n",
        "plt.plot(z, swish(z, beta), \"r:\", linewidth=2,\n",
        "         label=fr\"Swish$_{{\\beta={beta}}}(z)=z\\,\\sigma({beta}\\,z)$\")\n",
        "plt.plot(z, mish(z), \"g:\", linewidth=3,\n",
        "         label=fr\"Mish$(z) = z\\,\\tanh($softplus$(z))$\")\n",
        "plt.plot([-4, 2], [0, 0], 'k-')\n",
        "plt.plot([0, 0], [-2.2, 3.2], 'k-')\n",
        "plt.grid(True)\n",
        "plt.axis([-4, 2, -1, 2])\n",
        "plt.gca().set_aspect(\"equal\")\n",
        "plt.xlabel(\"$z$\")\n",
        "plt.legend(loc=\"upper left\")\n",
        "\n",
        "plt.show()"
      ],
      "metadata": {
        "colab": {
          "base_uri": "https://localhost:8080/",
          "height": 333
        },
        "id": "EuCRzaCeu733",
        "outputId": "ac032f5b-78e6-4ae6-e1e3-e4af5a7883e3"
      },
      "execution_count": 22,
      "outputs": [
        {
          "output_type": "display_data",
          "data": {
            "text/plain": [
              "<Figure size 640x480 with 1 Axes>"
            ],
            "image/png": "[encoded data removed]"
          },
          "metadata": {}
        }
      ]
    },
    {
      "cell_type": "markdown",
      "source": [
        "# 배치 정규화"
      ],
      "metadata": {
        "id": "OGjsPDVfv7qw"
      }
    },
    {
      "cell_type": "code",
      "source": [
        "tf.keras.backend.clear_session()\n",
        "tf.random.set_seed(42)"
      ],
      "metadata": {
        "id": "vr0kWtc4v48A"
      },
      "execution_count": 23,
      "outputs": []
    },
    {
      "cell_type": "code",
      "source": [
        "model = tf.keras.Sequential([\n",
        "    tf.keras.layers.Flatten(input_shape=[28, 28]),\n",
        "    tf.keras.layers.BatchNormalization(),\n",
        "    tf.keras.layers.Dense(300, activation=\"relu\",\n",
        "                          kernel_initializer=\"he_normal\"),\n",
        "    tf.keras.layers.BatchNormalization(),\n",
        "    tf.keras.layers.Dense(100, activation=\"relu\",\n",
        "                          kernel_initializer=\"he_normal\"),\n",
        "    tf.keras.layers.BatchNormalization(),\n",
        "    tf.keras.layers.Dense(10, activation=\"softmax\")\n",
        "])"
      ],
      "metadata": {
        "id": "U__WqCREwD37"
      },
      "execution_count": 24,
      "outputs": []
    },
    {
      "cell_type": "code",
      "source": [
        "model.summary()"
      ],
      "metadata": {
        "colab": {
          "base_uri": "https://localhost:8080/"
        },
        "id": "3l0zsmKNxHEo",
        "outputId": "885c6e56-1b9c-4177-cdf6-13f78528ff89"
      },
      "execution_count": 25,
      "outputs": [
        {
          "output_type": "stream",
          "name": "stdout",
          "text": [
            "Model: \"sequential\"\n",
            "_________________________________________________________________\n",
            " Layer (type)                Output Shape              Param #   \n",
            "=================================================================\n",
            " flatten (Flatten)           (None, 784)               0         \n",
            "                                                                 \n",
            " batch_normalization (Batch  (None, 784)               3136      \n",
            " Normalization)                                                  \n",
            "                                                                 \n",
            " dense (Dense)               (None, 300)               235500    \n",
            "                                                                 \n",
            " batch_normalization_1 (Bat  (None, 300)               1200      \n",
            " chNormalization)                                                \n",
            "                                                                 \n",
            " dense_1 (Dense)             (None, 100)               30100     \n",
            "                                                                 \n",
            " batch_normalization_2 (Bat  (None, 100)               400       \n",
            " chNormalization)                                                \n",
            "                                                                 \n",
            " dense_2 (Dense)             (None, 10)                1010      \n",
            "                                                                 \n",
            "=================================================================\n",
            "Total params: 271346 (1.04 MB)\n",
            "Trainable params: 268978 (1.03 MB)\n",
            "Non-trainable params: 2368 (9.25 KB)\n",
            "_________________________________________________________________\n"
          ]
        }
      ]
    },
    {
      "cell_type": "code",
      "source": [
        "[(var.name, var.trainable) for var in model.layers[1].variables]"
      ],
      "metadata": {
        "colab": {
          "base_uri": "https://localhost:8080/"
        },
        "id": "grB7dqr4xI8m",
        "outputId": "ef8af55c-6fba-4464-bb74-d5ddbae3f09c"
      },
      "execution_count": 26,
      "outputs": [
        {
          "output_type": "execute_result",
          "data": {
            "text/plain": [
              "[('batch_normalization/gamma:0', True),\n",
              " ('batch_normalization/beta:0', True),\n",
              " ('batch_normalization/moving_mean:0', False),\n",
              " ('batch_normalization/moving_variance:0', False)]"
            ]
          },
          "metadata": {},
          "execution_count": 26
        }
      ]
    },
    {
      "cell_type": "markdown",
      "source": [
        "# 그레이디언트 클리핑"
      ],
      "metadata": {
        "id": "ACt9AQoPxml-"
      }
    },
    {
      "cell_type": "markdown",
      "source": [
        "모든 tf.keras.optimizers는 clipnorm 또는 clipvalue 매개변수를 받습니다"
      ],
      "metadata": {
        "id": "FYNSlKPOyqtf"
      }
    },
    {
      "cell_type": "code",
      "source": [
        "optimizer = tf.keras.optimizers.SGD(clipvalue=1.0)\n",
        "model.compile(loss=\"sparse_categorical_crossentropy\", optimizer=optimizer)"
      ],
      "metadata": {
        "id": "R0grUKgrxXLn"
      },
      "execution_count": 27,
      "outputs": []
    },
    {
      "cell_type": "code",
      "source": [
        "optimizer = tf.keras.optimizers.SGD(clipnorm=1.0)\n",
        "model.compile(loss=\"sparse_categorical_crossentropy\", optimizer=optimizer)"
      ],
      "metadata": {
        "id": "3N3mvKPtyoz4"
      },
      "execution_count": 28,
      "outputs": []
    },
    {
      "cell_type": "markdown",
      "source": [
        "# 11.2 사전 훈련된 층 재사용하기"
      ],
      "metadata": {
        "id": "P01pqvhSyuFG"
      }
    },
    {
      "cell_type": "markdown",
      "source": [
        "# 케라스를 사용한 전이 학습"
      ],
      "metadata": {
        "id": "sQ5_qJct07e6"
      }
    },
    {
      "cell_type": "markdown",
      "source": [
        "패션 MNIST 훈련 집합을 두 개로 나눠 보겠습니다:\n",
        "\n",
        "X_train_A: T-shirts/tops와 pullovers를 제외한 모든 항목의 모든 이미지 (클래스 0과 2).\n",
        "X_train_B: T-shirts/tops와 pullovers 중에서 처음 200개의 이미지로만 구성된 훨씬 작은 훈련 세트.\n",
        "검증 세트와 테스트 세트도 이러한 방식으로 분할되지만 이미지 수에는 제한이 없습니다.\n",
        "\n",
        "집합 A(8개의 클래스가 있는 분류 작업)에 대해 모델을 훈련하고, 이를 다시 집합 B(이진 분류)를 처리하는 데 사용하려고 합니다. 집합 A의 클래스(trousers, dresses, coats, sandals, shirts, sneakers, bags, and ankle boots)는 집합 B의 클래스(T-shirts/tops, pullovers)과 다소 유사하므로, 작업 A에서 작업 B로 약간의 지식이 전이되기를 희망합니다.\n",
        "\n",
        "그러나 Dense 층을 사용하기 때문에 같은 위치에서 발생하는 패턴만 재사용할 수 있습니다(하지만 14장에서 살펴볼 합성곱 층은 학습된 패턴을 이미지의 어느 위치에서나 감지할 수 있습니다)."
      ],
      "metadata": {
        "id": "wSWtZmU40-w8"
      }
    },
    {
      "cell_type": "code",
      "source": [
        "pos_class_id = class_names.index(\"Pullover\")\n",
        "neg_class_id = class_names.index(\"T-shirt/top\")\n",
        "\n",
        "def split_dataset(X, y):\n",
        "    y_for_B = (y == pos_class_id) | (y == neg_class_id)\n",
        "    y_A = y[~y_for_B]\n",
        "    y_B = (y[y_for_B] == pos_class_id).astype(np.float32)\n",
        "    old_class_ids = list(set(range(10)) - set([neg_class_id, pos_class_id]))\n",
        "    for old_class_id, new_class_id in zip(old_class_ids, range(8)):\n",
        "        y_A[y_A == old_class_id] = new_class_id  # A에 대한 클래스 ID 재정의\n",
        "    return ((X[~y_for_B], y_A), (X[y_for_B], y_B))\n",
        "\n",
        "(X_train_A, y_train_A), (X_train_B, y_train_B) = split_dataset(X_train, y_train)\n",
        "(X_valid_A, y_valid_A), (X_valid_B, y_valid_B) = split_dataset(X_valid, y_valid)\n",
        "(X_test_A, y_test_A), (X_test_B, y_test_B) = split_dataset(X_test, y_test)\n",
        "X_train_B = X_train_B[:200]\n",
        "y_train_B = y_train_B[:200]\n",
        "\n",
        "tf.random.set_seed(42)\n",
        "\n",
        "model_A = tf.keras.Sequential([\n",
        "    tf.keras.layers.Flatten(input_shape=[28, 28]),\n",
        "    tf.keras.layers.Dense(100, activation=\"relu\",\n",
        "                          kernel_initializer=\"he_normal\"),\n",
        "    tf.keras.layers.Dense(100, activation=\"relu\",\n",
        "                          kernel_initializer=\"he_normal\"),\n",
        "    tf.keras.layers.Dense(100, activation=\"relu\",\n",
        "                          kernel_initializer=\"he_normal\"),\n",
        "    tf.keras.layers.Dense(8, activation=\"softmax\")\n",
        "])\n",
        "\n",
        "model_A.compile(loss=\"sparse_categorical_crossentropy\",\n",
        "                optimizer=tf.keras.optimizers.SGD(learning_rate=0.001),\n",
        "                metrics=[\"accuracy\"])\n",
        "history = model_A.fit(X_train_A, y_train_A, epochs=20,\n",
        "                      validation_data=(X_valid_A, y_valid_A))\n",
        "model_A.save(\"my_model_A\")"
      ],
      "metadata": {
        "id": "3sUjtDkT0_uT",
        "colab": {
          "base_uri": "https://localhost:8080/"
        },
        "outputId": "420572a7-5f62-4d7b-ec3b-de195cf61d91"
      },
      "execution_count": 29,
      "outputs": [
        {
          "output_type": "stream",
          "name": "stdout",
          "text": [
            "Epoch 1/20\n",
            "1376/1376 [==============================] - 7s 5ms/step - loss: 1.1616 - accuracy: 0.6335 - val_loss: 0.7174 - val_accuracy: 0.7689\n",
            "Epoch 2/20\n",
            "1376/1376 [==============================] - 9s 7ms/step - loss: 0.6240 - accuracy: 0.7954 - val_loss: 0.5352 - val_accuracy: 0.8255\n",
            "Epoch 3/20\n",
            "1376/1376 [==============================] - 7s 5ms/step - loss: 0.5043 - accuracy: 0.8393 - val_loss: 0.4575 - val_accuracy: 0.8448\n",
            "Epoch 4/20\n",
            "1376/1376 [==============================] - 8s 6ms/step - loss: 0.4409 - accuracy: 0.8588 - val_loss: 0.4091 - val_accuracy: 0.8639\n",
            "Epoch 5/20\n",
            "1376/1376 [==============================] - 8s 6ms/step - loss: 0.4014 - accuracy: 0.8690 - val_loss: 0.3794 - val_accuracy: 0.8694\n",
            "Epoch 6/20\n",
            "1376/1376 [==============================] - 6s 5ms/step - loss: 0.3739 - accuracy: 0.8762 - val_loss: 0.3591 - val_accuracy: 0.8789\n",
            "Epoch 7/20\n",
            "1376/1376 [==============================] - 10s 8ms/step - loss: 0.3544 - accuracy: 0.8814 - val_loss: 0.3419 - val_accuracy: 0.8827\n",
            "Epoch 8/20\n",
            "1376/1376 [==============================] - 10s 8ms/step - loss: 0.3387 - accuracy: 0.8865 - val_loss: 0.3337 - val_accuracy: 0.8874\n",
            "Epoch 9/20\n",
            "1376/1376 [==============================] - 9s 7ms/step - loss: 0.3268 - accuracy: 0.8906 - val_loss: 0.3199 - val_accuracy: 0.8899\n",
            "Epoch 10/20\n",
            "1376/1376 [==============================] - 10s 7ms/step - loss: 0.3161 - accuracy: 0.8933 - val_loss: 0.3137 - val_accuracy: 0.8925\n",
            "Epoch 11/20\n",
            "1376/1376 [==============================] - 10s 7ms/step - loss: 0.3073 - accuracy: 0.8968 - val_loss: 0.3074 - val_accuracy: 0.8930\n",
            "Epoch 12/20\n",
            "1376/1376 [==============================] - 10s 7ms/step - loss: 0.3001 - accuracy: 0.8987 - val_loss: 0.3059 - val_accuracy: 0.8937\n",
            "Epoch 13/20\n",
            "1376/1376 [==============================] - 7s 5ms/step - loss: 0.2939 - accuracy: 0.9002 - val_loss: 0.2967 - val_accuracy: 0.8960\n",
            "Epoch 14/20\n",
            "1376/1376 [==============================] - 10s 7ms/step - loss: 0.2879 - accuracy: 0.9028 - val_loss: 0.2904 - val_accuracy: 0.8952\n",
            "Epoch 15/20\n",
            "1376/1376 [==============================] - 9s 6ms/step - loss: 0.2831 - accuracy: 0.9036 - val_loss: 0.2860 - val_accuracy: 0.9027\n",
            "Epoch 16/20\n",
            "1376/1376 [==============================] - 6s 4ms/step - loss: 0.2783 - accuracy: 0.9051 - val_loss: 0.2828 - val_accuracy: 0.9015\n",
            "Epoch 17/20\n",
            "1376/1376 [==============================] - 7s 5ms/step - loss: 0.2740 - accuracy: 0.9065 - val_loss: 0.2796 - val_accuracy: 0.9020\n",
            "Epoch 18/20\n",
            "1376/1376 [==============================] - 6s 5ms/step - loss: 0.2696 - accuracy: 0.9078 - val_loss: 0.2784 - val_accuracy: 0.9025\n",
            "Epoch 19/20\n",
            "1376/1376 [==============================] - 8s 6ms/step - loss: 0.2661 - accuracy: 0.9091 - val_loss: 0.2754 - val_accuracy: 0.9052\n",
            "Epoch 20/20\n",
            "1376/1376 [==============================] - 7s 5ms/step - loss: 0.2625 - accuracy: 0.9102 - val_loss: 0.2740 - val_accuracy: 0.9057\n"
          ]
        }
      ]
    },
    {
      "cell_type": "code",
      "source": [
        "tf.random.set_seed(42)\n",
        "model_B = tf.keras.Sequential([\n",
        "    tf.keras.layers.Flatten(input_shape=[28, 28]),\n",
        "    tf.keras.layers.Dense(100, activation=\"relu\",\n",
        "                          kernel_initializer=\"he_normal\"),\n",
        "    tf.keras.layers.Dense(100, activation=\"relu\",\n",
        "                          kernel_initializer=\"he_normal\"),\n",
        "    tf.keras.layers.Dense(100, activation=\"relu\",\n",
        "                          kernel_initializer=\"he_normal\"),\n",
        "    tf.keras.layers.Dense(1, activation=\"sigmoid\")\n",
        "])\n",
        "\n",
        "model_B.compile(loss=\"binary_crossentropy\",\n",
        "                optimizer=tf.keras.optimizers.SGD(learning_rate=0.001),\n",
        "                metrics=[\"accuracy\"])\n",
        "history = model_B.fit(X_train_B, y_train_B, epochs=20,\n",
        "                      validation_data=(X_valid_B, y_valid_B))\n",
        "model_B.evaluate(X_test_B, y_test_B)"
      ],
      "metadata": {
        "id": "2RXU72DD13Fn",
        "colab": {
          "base_uri": "https://localhost:8080/"
        },
        "outputId": "091875c1-632b-4361-cfe2-3b0a5f56c5d7"
      },
      "execution_count": 30,
      "outputs": [
        {
          "output_type": "stream",
          "name": "stdout",
          "text": [
            "Epoch 1/20\n",
            "7/7 [==============================] - 2s 108ms/step - loss: 0.7109 - accuracy: 0.5550 - val_loss: 0.6951 - val_accuracy: 0.5302\n",
            "Epoch 2/20\n",
            "7/7 [==============================] - 0s 39ms/step - loss: 0.6554 - accuracy: 0.5650 - val_loss: 0.6513 - val_accuracy: 0.5539\n",
            "Epoch 3/20\n",
            "7/7 [==============================] - 0s 65ms/step - loss: 0.6184 - accuracy: 0.6050 - val_loss: 0.6225 - val_accuracy: 0.5865\n",
            "Epoch 4/20\n",
            "7/7 [==============================] - 0s 23ms/step - loss: 0.5902 - accuracy: 0.6600 - val_loss: 0.5970 - val_accuracy: 0.6805\n",
            "Epoch 5/20\n",
            "7/7 [==============================] - 0s 32ms/step - loss: 0.5666 - accuracy: 0.7400 - val_loss: 0.5743 - val_accuracy: 0.7814\n",
            "Epoch 6/20\n",
            "7/7 [==============================] - 0s 29ms/step - loss: 0.5450 - accuracy: 0.8350 - val_loss: 0.5542 - val_accuracy: 0.8467\n",
            "Epoch 7/20\n",
            "7/7 [==============================] - 0s 36ms/step - loss: 0.5253 - accuracy: 0.8900 - val_loss: 0.5366 - val_accuracy: 0.8872\n",
            "Epoch 8/20\n",
            "7/7 [==============================] - 0s 26ms/step - loss: 0.5084 - accuracy: 0.9350 - val_loss: 0.5217 - val_accuracy: 0.9031\n",
            "Epoch 9/20\n",
            "7/7 [==============================] - 0s 30ms/step - loss: 0.4924 - accuracy: 0.9400 - val_loss: 0.5083 - val_accuracy: 0.9120\n",
            "Epoch 10/20\n",
            "7/7 [==============================] - 0s 67ms/step - loss: 0.4783 - accuracy: 0.9550 - val_loss: 0.4954 - val_accuracy: 0.9169\n",
            "Epoch 11/20\n",
            "7/7 [==============================] - 0s 19ms/step - loss: 0.4647 - accuracy: 0.9600 - val_loss: 0.4831 - val_accuracy: 0.9219\n",
            "Epoch 12/20\n",
            "7/7 [==============================] - 0s 18ms/step - loss: 0.4517 - accuracy: 0.9650 - val_loss: 0.4708 - val_accuracy: 0.9278\n",
            "Epoch 13/20\n",
            "7/7 [==============================] - 0s 18ms/step - loss: 0.4387 - accuracy: 0.9650 - val_loss: 0.4604 - val_accuracy: 0.9288\n",
            "Epoch 14/20\n",
            "7/7 [==============================] - 0s 31ms/step - loss: 0.4275 - accuracy: 0.9650 - val_loss: 0.4498 - val_accuracy: 0.9318\n",
            "Epoch 15/20\n",
            "7/7 [==============================] - 0s 19ms/step - loss: 0.4163 - accuracy: 0.9650 - val_loss: 0.4395 - val_accuracy: 0.9318\n",
            "Epoch 16/20\n",
            "7/7 [==============================] - 0s 29ms/step - loss: 0.4052 - accuracy: 0.9650 - val_loss: 0.4295 - val_accuracy: 0.9347\n",
            "Epoch 17/20\n",
            "7/7 [==============================] - 0s 37ms/step - loss: 0.3948 - accuracy: 0.9650 - val_loss: 0.4200 - val_accuracy: 0.9357\n",
            "Epoch 18/20\n",
            "7/7 [==============================] - 0s 29ms/step - loss: 0.3848 - accuracy: 0.9650 - val_loss: 0.4109 - val_accuracy: 0.9367\n",
            "Epoch 19/20\n",
            "7/7 [==============================] - 0s 20ms/step - loss: 0.3751 - accuracy: 0.9700 - val_loss: 0.4022 - val_accuracy: 0.9367\n",
            "Epoch 20/20\n",
            "7/7 [==============================] - 0s 17ms/step - loss: 0.3663 - accuracy: 0.9700 - val_loss: 0.3943 - val_accuracy: 0.9377\n",
            "63/63 [==============================] - 0s 4ms/step - loss: 0.4050 - accuracy: 0.9255\n"
          ]
        },
        {
          "output_type": "execute_result",
          "data": {
            "text/plain": [
              "[0.4049643874168396, 0.9254999756813049]"
            ]
          },
          "metadata": {},
          "execution_count": 30
        }
      ]
    },
    {
      "cell_type": "markdown",
      "source": [
        "샌들과 셔츠 이미지를 구분하는 모델 B는 91.85%의 정확도를 가진다.\n",
        "\n",
        "모델 A를 로드하고 이 모델의 층을 기반으로 새로운 모델 model_B_on_A를 만든다. 출력 층만 제외하고 모든 층을 재사용한다."
      ],
      "metadata": {
        "id": "AwMz7HjI8zm0"
      }
    },
    {
      "cell_type": "code",
      "source": [
        "model_A = tf.keras.models.load_model(\"my_model_A\")\n",
        "model_B_on_A = tf.keras.Sequential(model_A.layers[:-1])\n",
        "model_B_on_A.add(tf.keras.layers.Dense(1, activation=\"sigmoid\"))"
      ],
      "metadata": {
        "id": "aHwUM_9I16Td"
      },
      "execution_count": 31,
      "outputs": []
    },
    {
      "cell_type": "code",
      "source": [
        "tf.random.set_seed(42)\n",
        "\n",
        "model_A_clone = tf.keras.models.clone_model(model_A)\n",
        "model_A_clone.set_weights(model_A.get_weights())"
      ],
      "metadata": {
        "id": "FGmqJrJj991R"
      },
      "execution_count": 32,
      "outputs": []
    },
    {
      "cell_type": "code",
      "source": [
        "model_B_on_A = tf.keras.Sequential(model_A_clone.layers[:-1])\n",
        "model_B_on_A.add(tf.keras.layers.Dense(1, activation=\"sigmoid\"))"
      ],
      "metadata": {
        "id": "d63DZh_7-Kz3"
      },
      "execution_count": 33,
      "outputs": []
    },
    {
      "cell_type": "code",
      "source": [
        "for layer in model_B_on_A.layers[:-1]:\n",
        "    layer.trainable = False\n",
        "\n",
        "optimizer = tf.keras.optimizers.SGD(learning_rate=0.001)\n",
        "model_B_on_A.compile(loss=\"binary_crossentropy\", optimizer=optimizer,\n",
        "                     metrics=[\"accuracy\"])"
      ],
      "metadata": {
        "id": "0J4Y824h-Y75"
      },
      "execution_count": 34,
      "outputs": []
    },
    {
      "cell_type": "code",
      "source": [
        "history = model_B_on_A.fit(X_train_B, y_train_B, epochs=4,\n",
        "                           validation_data=(X_valid_B, y_valid_B))\n",
        "\n",
        "for layer in model_B_on_A.layers[:-1]:\n",
        "    layer.trainable = True\n",
        "\n",
        "optimizer = tf.keras.optimizers.SGD(learning_rate=0.001)\n",
        "model_B_on_A.compile(loss=\"binary_crossentropy\", optimizer=optimizer,\n",
        "                     metrics=[\"accuracy\"])\n",
        "history = model_B_on_A.fit(X_train_B, y_train_B, epochs=16,\n",
        "                           validation_data=(X_valid_B, y_valid_B))"
      ],
      "metadata": {
        "colab": {
          "base_uri": "https://localhost:8080/"
        },
        "id": "Ds9b3jTA-ws-",
        "outputId": "8e29aa31-9dc3-4da8-b7ee-9b576d262f3d"
      },
      "execution_count": 35,
      "outputs": [
        {
          "output_type": "stream",
          "name": "stdout",
          "text": [
            "Epoch 1/4\n",
            "7/7 [==============================] - 1s 65ms/step - loss: 1.0716 - accuracy: 0.4450 - val_loss: 0.6938 - val_accuracy: 0.4926\n",
            "Epoch 2/4\n",
            "7/7 [==============================] - 0s 35ms/step - loss: 0.6137 - accuracy: 0.6100 - val_loss: 0.5237 - val_accuracy: 0.8200\n",
            "Epoch 3/4\n",
            "7/7 [==============================] - 0s 34ms/step - loss: 0.5095 - accuracy: 0.8500 - val_loss: 0.4993 - val_accuracy: 0.8754\n",
            "Epoch 4/4\n",
            "7/7 [==============================] - 0s 34ms/step - loss: 0.4886 - accuracy: 0.8900 - val_loss: 0.4934 - val_accuracy: 0.8813\n",
            "Epoch 1/16\n",
            "7/7 [==============================] - 1s 84ms/step - loss: 0.4721 - accuracy: 0.9000 - val_loss: 0.4678 - val_accuracy: 0.8734\n",
            "Epoch 2/16\n",
            "7/7 [==============================] - 0s 32ms/step - loss: 0.4439 - accuracy: 0.9050 - val_loss: 0.4336 - val_accuracy: 0.9070\n",
            "Epoch 3/16\n",
            "7/7 [==============================] - 0s 18ms/step - loss: 0.4129 - accuracy: 0.9250 - val_loss: 0.4156 - val_accuracy: 0.9130\n",
            "Epoch 4/16\n",
            "7/7 [==============================] - 0s 33ms/step - loss: 0.3880 - accuracy: 0.9200 - val_loss: 0.3924 - val_accuracy: 0.9298\n",
            "Epoch 5/16\n",
            "7/7 [==============================] - 0s 36ms/step - loss: 0.3689 - accuracy: 0.9200 - val_loss: 0.3736 - val_accuracy: 0.9308\n",
            "Epoch 6/16\n",
            "7/7 [==============================] - 0s 20ms/step - loss: 0.3500 - accuracy: 0.9300 - val_loss: 0.3582 - val_accuracy: 0.9318\n",
            "Epoch 7/16\n",
            "7/7 [==============================] - 0s 35ms/step - loss: 0.3331 - accuracy: 0.9300 - val_loss: 0.3513 - val_accuracy: 0.9238\n",
            "Epoch 8/16\n",
            "7/7 [==============================] - 0s 62ms/step - loss: 0.3272 - accuracy: 0.9450 - val_loss: 0.3344 - val_accuracy: 0.9337\n",
            "Epoch 9/16\n",
            "7/7 [==============================] - 0s 37ms/step - loss: 0.3081 - accuracy: 0.9400 - val_loss: 0.3223 - val_accuracy: 0.9387\n",
            "Epoch 10/16\n",
            "7/7 [==============================] - 0s 33ms/step - loss: 0.2970 - accuracy: 0.9450 - val_loss: 0.3127 - val_accuracy: 0.9377\n",
            "Epoch 11/16\n",
            "7/7 [==============================] - 0s 37ms/step - loss: 0.2879 - accuracy: 0.9500 - val_loss: 0.3035 - val_accuracy: 0.9407\n",
            "Epoch 12/16\n",
            "7/7 [==============================] - 0s 76ms/step - loss: 0.2776 - accuracy: 0.9500 - val_loss: 0.2951 - val_accuracy: 0.9397\n",
            "Epoch 13/16\n",
            "7/7 [==============================] - 0s 67ms/step - loss: 0.2685 - accuracy: 0.9550 - val_loss: 0.2883 - val_accuracy: 0.9436\n",
            "Epoch 14/16\n",
            "7/7 [==============================] - 0s 56ms/step - loss: 0.2618 - accuracy: 0.9500 - val_loss: 0.2814 - val_accuracy: 0.9456\n",
            "Epoch 15/16\n",
            "7/7 [==============================] - 0s 38ms/step - loss: 0.2546 - accuracy: 0.9550 - val_loss: 0.2743 - val_accuracy: 0.9466\n",
            "Epoch 16/16\n",
            "7/7 [==============================] - 0s 19ms/step - loss: 0.2468 - accuracy: 0.9550 - val_loss: 0.2695 - val_accuracy: 0.9456\n"
          ]
        }
      ]
    },
    {
      "cell_type": "code",
      "source": [
        "model_B_on_A.evaluate(X_test_B, y_test_B)"
      ],
      "metadata": {
        "colab": {
          "base_uri": "https://localhost:8080/"
        },
        "id": "oMMO8ym1_Y3r",
        "outputId": "e3e13a34-c4aa-4ed4-92eb-6c21cd90e7c4"
      },
      "execution_count": 36,
      "outputs": [
        {
          "output_type": "stream",
          "name": "stdout",
          "text": [
            "63/63 [==============================] - 0s 4ms/step - loss: 0.2822 - accuracy: 0.9335\n"
          ]
        },
        {
          "output_type": "execute_result",
          "data": {
            "text/plain": [
              "[0.2821941077709198, 0.9334999918937683]"
            ]
          },
          "metadata": {},
          "execution_count": 36
        }
      ]
    },
    {
      "cell_type": "markdown",
      "source": [
        "# 11.3 고속 옵티마이저"
      ],
      "metadata": {
        "id": "s3fECy3j_s_L"
      }
    },
    {
      "cell_type": "code",
      "source": [
        "# 패션 MNIST에서 옵티마이저를 테스트하는 간단한 함수\n",
        "\n",
        "def build_model(seed=42):\n",
        "    tf.random.set_seed(seed)\n",
        "    return tf.keras.Sequential([\n",
        "        tf.keras.layers.Flatten(input_shape=[28, 28]),\n",
        "        tf.keras.layers.Dense(100, activation=\"relu\",\n",
        "                              kernel_initializer=\"he_normal\"),\n",
        "        tf.keras.layers.Dense(100, activation=\"relu\",\n",
        "                              kernel_initializer=\"he_normal\"),\n",
        "        tf.keras.layers.Dense(100, activation=\"relu\",\n",
        "                              kernel_initializer=\"he_normal\"),\n",
        "        tf.keras.layers.Dense(10, activation=\"softmax\")\n",
        "    ])"
      ],
      "metadata": {
        "id": "Or2fXIRh_oUD"
      },
      "execution_count": 37,
      "outputs": []
    },
    {
      "cell_type": "code",
      "source": [
        "def build_and_train_model(optimizer):   # 옵티마이저 입력\n",
        "    model = build_model()\n",
        "    model.compile(loss=\"sparse_categorical_crossentropy\", optimizer=optimizer,\n",
        "                  metrics=[\"accuracy\"])\n",
        "    return model.fit(X_train, y_train, epochs=10,\n",
        "              validation_data=(X_valid, y_valid), verbose=0)"
      ],
      "metadata": {
        "id": "lQZdO_3pAjkh"
      },
      "execution_count": 38,
      "outputs": []
    },
    {
      "cell_type": "code",
      "source": [
        "optimizer = tf.keras.optimizers.SGD(learning_rate=0.001, momentum=0.9)"
      ],
      "metadata": {
        "id": "emqQGw3hA8N3"
      },
      "execution_count": 39,
      "outputs": []
    },
    {
      "cell_type": "code",
      "source": [
        "history_sgd = build_and_train_model(optimizer)"
      ],
      "metadata": {
        "colab": {
          "base_uri": "https://localhost:8080/"
        },
        "id": "_Cl4sB43BEOW",
        "outputId": "30257aaa-dece-4acb-f3dd-26a251337c77"
      },
      "execution_count": 40,
      "outputs": [
        {
          "output_type": "stream",
          "name": "stdout",
          "text": [
            "313/313 [==============================] - 1s 4ms/step - loss: 0.3839 - accuracy: 0.8605\n"
          ]
        }
      ]
    },
    {
      "cell_type": "markdown",
      "source": [
        "# 모멘텀 최적화"
      ],
      "metadata": {
        "id": "ox6VIk8QDpq8"
      }
    },
    {
      "cell_type": "code",
      "source": [
        "optimizer = tf.keras.optimizers.SGD(learning_rate=0.001, momentum=0.9)"
      ],
      "metadata": {
        "id": "YVVuR14TBMBC"
      },
      "execution_count": 41,
      "outputs": []
    },
    {
      "cell_type": "code",
      "source": [
        "history_momentum = build_and_train_model(optimizer)"
      ],
      "metadata": {
        "colab": {
          "base_uri": "https://localhost:8080/"
        },
        "id": "y4BV4GLcDzya",
        "outputId": "9c8919da-6b28-4e1d-86ec-6e30cc03bf43"
      },
      "execution_count": 42,
      "outputs": [
        {
          "output_type": "stream",
          "name": "stdout",
          "text": [
            "313/313 [==============================] - 1s 4ms/step - loss: 0.3840 - accuracy: 0.8640\n"
          ]
        }
      ]
    },
    {
      "cell_type": "markdown",
      "source": [
        "# 네스테로프 가속 경사"
      ],
      "metadata": {
        "id": "g6MhMH-ED54m"
      }
    },
    {
      "cell_type": "code",
      "source": [
        "optimizer = tf.keras.optimizers.SGD(learning_rate=0.001, momentum=0.9,\n",
        "                                    nesterov=True)"
      ],
      "metadata": {
        "id": "irr7m6yLD2ei"
      },
      "execution_count": 43,
      "outputs": []
    },
    {
      "cell_type": "code",
      "source": [
        "history_nesterov = build_and_train_model(optimizer)"
      ],
      "metadata": {
        "colab": {
          "base_uri": "https://localhost:8080/"
        },
        "id": "3GnDzYkMEEjB",
        "outputId": "2e646c04-e280-413f-805e-e1210507dc86"
      },
      "execution_count": 44,
      "outputs": [
        {
          "output_type": "stream",
          "name": "stdout",
          "text": [
            "313/313 [==============================] - 1s 2ms/step - loss: 0.3814 - accuracy: 0.8625\n"
          ]
        }
      ]
    },
    {
      "cell_type": "markdown",
      "source": [
        "# AdaGrad"
      ],
      "metadata": {
        "id": "KKqBgcTCEQrm"
      }
    },
    {
      "cell_type": "code",
      "source": [
        "optimizer = tf.keras.optimizers.Adagrad(learning_rate=0.001)"
      ],
      "metadata": {
        "id": "qLMBPSMzELnz"
      },
      "execution_count": 45,
      "outputs": []
    },
    {
      "cell_type": "code",
      "source": [
        "history_adagrad = build_and_train_model(optimizer)"
      ],
      "metadata": {
        "colab": {
          "base_uri": "https://localhost:8080/"
        },
        "id": "S7m8KOvxEaVJ",
        "outputId": "4f085ff7-c047-4916-ffd5-e8505ccdaf55"
      },
      "execution_count": 46,
      "outputs": [
        {
          "output_type": "stream",
          "name": "stdout",
          "text": [
            "313/313 [==============================] - 1s 2ms/step - loss: 0.4869 - accuracy: 0.8310\n"
          ]
        }
      ]
    },
    {
      "cell_type": "markdown",
      "source": [
        "# RMSProp"
      ],
      "metadata": {
        "id": "8HsTpW51Ee6u"
      }
    },
    {
      "cell_type": "code",
      "source": [
        "optimizer = tf.keras.optimizers.RMSprop(learning_rate=0.001, rho=0.9)"
      ],
      "metadata": {
        "id": "zh1Sov54EeSr"
      },
      "execution_count": 47,
      "outputs": []
    },
    {
      "cell_type": "code",
      "source": [
        "history_rmsprop = build_and_train_model(optimizer)"
      ],
      "metadata": {
        "colab": {
          "base_uri": "https://localhost:8080/"
        },
        "id": "eACtLfPpEr7j",
        "outputId": "4081c4de-332a-4a6e-9540-fece85e1004b"
      },
      "execution_count": 48,
      "outputs": [
        {
          "output_type": "stream",
          "name": "stdout",
          "text": [
            "313/313 [==============================] - 1s 3ms/step - loss: 0.5178 - accuracy: 0.8673\n"
          ]
        }
      ]
    },
    {
      "cell_type": "markdown",
      "source": [
        "# Adam"
      ],
      "metadata": {
        "id": "YDH6fd0sEyF3"
      }
    },
    {
      "cell_type": "code",
      "source": [
        "optimizer = tf.keras.optimizers.Adam(learning_rate=0.001, beta_1=0.9,\n",
        "                                     beta_2=0.999)"
      ],
      "metadata": {
        "id": "KV1xRxuBExTS"
      },
      "execution_count": 49,
      "outputs": []
    },
    {
      "cell_type": "code",
      "source": [
        "history_adam = build_and_train_model(optimizer)"
      ],
      "metadata": {
        "colab": {
          "base_uri": "https://localhost:8080/"
        },
        "id": "pk5Xuh9HE-s9",
        "outputId": "b149bf35-f348-444a-d7ab-931100378b73"
      },
      "execution_count": 50,
      "outputs": [
        {
          "output_type": "stream",
          "name": "stdout",
          "text": [
            "313/313 [==============================] - 1s 3ms/step - loss: 0.3744 - accuracy: 0.8748\n"
          ]
        }
      ]
    },
    {
      "cell_type": "markdown",
      "source": [
        "# Adamax"
      ],
      "metadata": {
        "id": "BJTI3jinFDBh"
      }
    },
    {
      "cell_type": "code",
      "source": [
        "optimizer = tf.keras.optimizers.Adamax(learning_rate=0.001, beta_1=0.9,\n",
        "                                      beta_2=0.999)"
      ],
      "metadata": {
        "id": "WdRPcrGFFCUI"
      },
      "execution_count": 51,
      "outputs": []
    },
    {
      "cell_type": "code",
      "source": [
        "history_adamax = build_and_train_model(optimizer)"
      ],
      "metadata": {
        "colab": {
          "base_uri": "https://localhost:8080/"
        },
        "id": "fm6J9JnDFO1x",
        "outputId": "24af8c4b-91a0-46fc-98a1-f461b7183b74"
      },
      "execution_count": 52,
      "outputs": [
        {
          "output_type": "stream",
          "name": "stdout",
          "text": [
            "313/313 [==============================] - 1s 3ms/step - loss: 0.3600 - accuracy: 0.8697\n"
          ]
        }
      ]
    },
    {
      "cell_type": "markdown",
      "source": [
        "# Nadam"
      ],
      "metadata": {
        "id": "Hn-a_GqOFVkR"
      }
    },
    {
      "cell_type": "code",
      "source": [
        "optimizer = tf.keras.optimizers.Nadam(learning_rate=0.001, beta_1=0.9,\n",
        "                                      beta_2=0.999)"
      ],
      "metadata": {
        "id": "PxSCqfQYFSvb"
      },
      "execution_count": 53,
      "outputs": []
    },
    {
      "cell_type": "code",
      "source": [
        "history_nadam = build_and_train_model(optimizer)"
      ],
      "metadata": {
        "colab": {
          "base_uri": "https://localhost:8080/"
        },
        "id": "kiWsuKeSFiBO",
        "outputId": "52dcde7c-0070-4b6a-9f4f-48c2085da7ab"
      },
      "execution_count": 54,
      "outputs": [
        {
          "output_type": "stream",
          "name": "stdout",
          "text": [
            "313/313 [==============================] - 2s 5ms/step - loss: 0.3732 - accuracy: 0.8751\n"
          ]
        }
      ]
    },
    {
      "cell_type": "markdown",
      "source": [
        "# AdamW"
      ],
      "metadata": {
        "id": "89l8J_xsFso6"
      }
    },
    {
      "cell_type": "markdown",
      "source": [
        "Colab 또는 Kaggle에서는 TensorFlow-Addons 라이브러리를 설치해야 한다"
      ],
      "metadata": {
        "id": "zS8Rp0eZGDHa"
      }
    },
    {
      "cell_type": "code",
      "source": [
        "if \"google.colab\" in sys.modules:\n",
        "    %pip install -q -U tensorflow-addons"
      ],
      "metadata": {
        "colab": {
          "base_uri": "https://localhost:8080/"
        },
        "id": "5W8s_36OFnU4",
        "outputId": "39b7b850-b60e-46e9-f1ec-4cfed127d9b0"
      },
      "execution_count": 55,
      "outputs": [
        {
          "output_type": "stream",
          "name": "stdout",
          "text": [
            "\u001b[?25l     \u001b[90m━━━━━━━━━━━━━━━━━━━━━━━━━━━━━━━━━━━━━━━━\u001b[0m \u001b[32m0.0/611.8 kB\u001b[0m \u001b[31m?\u001b[0m eta \u001b[36m-:--:--\u001b[0m\r\u001b[2K     \u001b[91m━━━━━━━━━━━━━━\u001b[0m\u001b[91m╸\u001b[0m\u001b[90m━━━━━━━━━━━━━━━━━━━━━━━━━\u001b[0m \u001b[32m225.3/611.8 kB\u001b[0m \u001b[31m6.6 MB/s\u001b[0m eta \u001b[36m0:00:01\u001b[0m\r\u001b[2K     \u001b[91m━━━━━━━━━━━━━━━━━━━━━━━━━━━━━━━━━━━━━━━\u001b[0m\u001b[91m╸\u001b[0m \u001b[32m604.2/611.8 kB\u001b[0m \u001b[31m10.6 MB/s\u001b[0m eta \u001b[36m0:00:01\u001b[0m\r\u001b[2K     \u001b[90m━━━━━━━━━━━━━━━━━━━━━━━━━━━━━━━━━━━━━━━━\u001b[0m \u001b[32m611.8/611.8 kB\u001b[0m \u001b[31m8.0 MB/s\u001b[0m eta \u001b[36m0:00:00\u001b[0m\n",
            "\u001b[?25h"
          ]
        }
      ]
    },
    {
      "cell_type": "code",
      "source": [
        "import tensorflow_addons as tfa\n",
        "\n",
        "optimizer = tfa.optimizers.AdamW(weight_decay=1e-5, learning_rate=0.001,\n",
        "                                 beta_1=0.9, beta_2=0.999)"
      ],
      "metadata": {
        "id": "ZJd017DqGQHV",
        "colab": {
          "base_uri": "https://localhost:8080/"
        },
        "outputId": "189a9142-6430-480f-8ea9-7a12ed9901bf"
      },
      "execution_count": 56,
      "outputs": [
        {
          "output_type": "stream",
          "name": "stderr",
          "text": [
            "/usr/local/lib/python3.10/dist-packages/tensorflow_addons/utils/tfa_eol_msg.py:23: UserWarning: \n",
            "\n",
            "TensorFlow Addons (TFA) has ended development and introduction of new features.\n",
            "TFA has entered a minimal maintenance and release mode until a planned end of life in May 2024.\n",
            "Please modify downstream libraries to take dependencies from other repositories in our TensorFlow community (e.g. Keras, Keras-CV, and Keras-NLP). \n",
            "\n",
            "For more information see: https://github.com/tensorflow/addons/issues/2807 \n",
            "\n",
            "  warnings.warn(\n"
          ]
        }
      ]
    },
    {
      "cell_type": "code",
      "source": [
        "history_adamw = build_and_train_model(optimizer)"
      ],
      "metadata": {
        "colab": {
          "base_uri": "https://localhost:8080/"
        },
        "id": "F9P30cIaGge8",
        "outputId": "532f84ab-fcdd-4429-f9d1-dc238496fb95"
      },
      "execution_count": 57,
      "outputs": [
        {
          "output_type": "stream",
          "name": "stdout",
          "text": [
            "313/313 [==============================] - 1s 2ms/step - loss: 0.3456 - accuracy: 0.8726\n"
          ]
        }
      ]
    },
    {
      "cell_type": "markdown",
      "source": [
        "# 학습률 스케줄링"
      ],
      "metadata": {
        "id": "fjgrlkUe4QWf"
      }
    },
    {
      "cell_type": "markdown",
      "source": [
        "거듭제곱 기반 스케줄링\n",
        "\n",
        "lr = lr0 / (1 + steps / s)**c\n",
        "\n",
        "케라스는 c=1과 s = 1 / decay를 사용합니다."
      ],
      "metadata": {
        "id": "IuqqGSyJ4aG0"
      }
    },
    {
      "cell_type": "code",
      "source": [
        "optimizer = tf.keras.optimizers.SGD(learning_rate=0.01, weight_decay=1e-4)"
      ],
      "metadata": {
        "id": "DyDXSwmKHUJj"
      },
      "execution_count": 76,
      "outputs": []
    },
    {
      "cell_type": "code",
      "source": [
        "history_power_scheduling = build_and_train_model(optimizer)"
      ],
      "metadata": {
        "colab": {
          "base_uri": "https://localhost:8080/"
        },
        "id": "leKJPK8M4mLp",
        "outputId": "ed282116-3adb-4877-b5b8-dcaf4e4cc665"
      },
      "execution_count": 77,
      "outputs": [
        {
          "output_type": "stream",
          "name": "stdout",
          "text": [
            "313/313 [==============================] - 1s 3ms/step - loss: 0.3765 - accuracy: 0.8657\n"
          ]
        }
      ]
    },
    {
      "cell_type": "code",
      "source": [
        "import math\n",
        "\n",
        "learning_rate = 0.01\n",
        "decay = 1e-4\n",
        "batch_size = 32\n",
        "n_steps_per_epoch = math.ceil(len(X_train) / batch_size)\n",
        "n_epochs = 25\n",
        "\n",
        "epochs = np.arange(n_epochs)\n",
        "lrs = learning_rate / (1 + decay * epochs * n_steps_per_epoch)"
      ],
      "metadata": {
        "id": "nbQh4rQX4r97"
      },
      "execution_count": 78,
      "outputs": []
    },
    {
      "cell_type": "code",
      "source": [
        "plt.plot(epochs, lrs, \"o--\")\n",
        "plt.axis([0, n_epochs - 1, 0, 0.01])\n",
        "plt.xlabel(\"에포크\")\n",
        "plt.ylabel(\"학습률\")\n",
        "plt.title(\"거듭제곱 기반 스케줄링\", fontsize=14)\n",
        "plt.grid(True)\n",
        "plt.show()"
      ],
      "metadata": {
        "colab": {
          "base_uri": "https://localhost:8080/",
          "height": 473
        },
        "id": "DtsTRWte5Okd",
        "outputId": "444d971b-4bf4-42e2-b658-bd2a5eceef35"
      },
      "execution_count": 79,
      "outputs": [
        {
          "output_type": "display_data",
          "data": {
            "text/plain": [
              "<Figure size 640x480 with 1 Axes>"
            ],
            "image/png": "[encoded data removed]"
          },
          "metadata": {}
        }
      ]
    },
    {
      "cell_type": "markdown",
      "source": [
        "지수 기반 스케줄링\n",
        "\n",
        "lr = lr0 * 0.1 ** (epoch / s)"
      ],
      "metadata": {
        "id": "81KnaUdQ5juA"
      }
    },
    {
      "cell_type": "code",
      "source": [
        "def exponential_decay_fn(epoch):\n",
        "    return 0.01 * 0.1 ** (epoch / 20)"
      ],
      "metadata": {
        "id": "fIY9KVuE5hjy"
      },
      "execution_count": 89,
      "outputs": []
    },
    {
      "cell_type": "code",
      "source": [
        "def exponential_decay(lr0, s):\n",
        "    def exponential_decay_fn(epoch):\n",
        "        return lr0 * 0.1 ** (epoch / s)\n",
        "    return exponential_decay_fn\n",
        "\n",
        "exponential_decay_fn = exponential_decay(lr0=0.01, s=20)"
      ],
      "metadata": {
        "id": "vkudoTjI5se3"
      },
      "execution_count": 90,
      "outputs": []
    },
    {
      "cell_type": "code",
      "source": [
        "# 패션 MNIST용 모델 빌드 및 컴파일\n",
        "\n",
        "tf.random.set_seed(42)\n",
        "model = build_model()\n",
        "optimizer = tf.keras.optimizers.SGD(learning_rate=0.001)\n",
        "model.compile(loss=\"sparse_categorical_crossentropy\", optimizer=optimizer,\n",
        "              metrics=[\"accuracy\"])"
      ],
      "metadata": {
        "id": "oKx_b7r66AxC"
      },
      "execution_count": 91,
      "outputs": []
    },
    {
      "cell_type": "code",
      "source": [
        "lr_scheduler = tf.keras.callbacks.LearningRateScheduler(exponential_decay_fn)\n",
        "history = model.fit(X_train, y_train, epochs=n_epochs,\n",
        "                    validation_data=(X_valid, y_valid),\n",
        "                    callbacks=[lr_scheduler], verbose=0)"
      ],
      "metadata": {
        "id": "PvCpZ0or6bqs"
      },
      "execution_count": 93,
      "outputs": []
    },
    {
      "cell_type": "code",
      "source": [
        "plt.plot(history.epoch, history.history[\"lr\"], \"o-\")\n",
        "plt.axis([0, n_epochs - 1, 0, 0.011])\n",
        "plt.xlabel(\"에포크\")\n",
        "plt.ylabel(\"학습률\")\n",
        "plt.title(\"지수 기반 스케줄링\", fontsize=14)\n",
        "plt.grid(True)\n",
        "plt.show()"
      ],
      "metadata": {
        "colab": {
          "base_uri": "https://localhost:8080/",
          "height": 473
        },
        "id": "pHbdpiC56tof",
        "outputId": "27959923-a83b-4471-c2cd-ba332d486e10"
      },
      "execution_count": 94,
      "outputs": [
        {
          "output_type": "display_data",
          "data": {
            "text/plain": [
              "<Figure size 640x480 with 1 Axes>"
            ],
            "image/png": "[encoded data removed]"
          },
          "metadata": {}
        }
      ]
    },
    {
      "cell_type": "markdown",
      "source": [
        "구간별 고정 스케줄링"
      ],
      "metadata": {
        "id": "0NJvCFcX7cfC"
      }
    },
    {
      "cell_type": "code",
      "source": [
        "def piecewise_constant_fn(epoch):\n",
        "    if epoch < 5:\n",
        "        return 0.01\n",
        "    elif epoch < 15:\n",
        "        return 0.005\n",
        "    else:\n",
        "        return 0.001"
      ],
      "metadata": {
        "id": "xjGcXO3-7XHz"
      },
      "execution_count": 95,
      "outputs": []
    },
    {
      "cell_type": "code",
      "source": [
        "# 구간별 고정 스케줄링을 정의하는 일반적인 방법\n",
        "\n",
        "def piecewise_constant(boundaries, values):\n",
        "    boundaries = np.array([0] + boundaries)\n",
        "    values = np.array(values)\n",
        "    def piecewise_constant_fn(epoch):\n",
        "        return values[(boundaries > epoch).argmax() - 1]\n",
        "    return piecewise_constant_fn\n",
        "\n",
        "piecewise_constant_fn = piecewise_constant([5, 15], [0.01, 0.005, 0.001])"
      ],
      "metadata": {
        "id": "yKZ_gSX67qW1"
      },
      "execution_count": 98,
      "outputs": []
    },
    {
      "cell_type": "code",
      "source": [
        "n_epochs = 25\n",
        "lr0 = 0.01\n",
        "\n",
        "lr_scheduler = tf.keras.callbacks.LearningRateScheduler(piecewise_constant_fn)\n",
        "\n",
        "model = build_model()\n",
        "optimizer = tf.keras.optimizers.Nadam(learning_rate=lr0)\n",
        "model.compile(loss=\"sparse_categorical_crossentropy\", optimizer=optimizer,\n",
        "              metrics=[\"accuracy\"])\n",
        "history = model.fit(X_train, y_train, epochs=n_epochs,\n",
        "                    validation_data=(X_valid, y_valid),\n",
        "                    callbacks=[lr_scheduler], verbose=0)"
      ],
      "metadata": {
        "id": "YbPcjjwO8XZl"
      },
      "execution_count": 101,
      "outputs": []
    },
    {
      "cell_type": "code",
      "source": [
        "plt.plot(history.epoch, history.history[\"lr\"], \"o-\")\n",
        "plt.axis([0, n_epochs - 1, 0, 0.011])\n",
        "plt.xlabel(\"에포크\")\n",
        "plt.ylabel(\"학습률\")\n",
        "plt.title(\"구간별 고정 스케줄링\", fontsize=14)\n",
        "plt.grid(True)\n",
        "plt.show()"
      ],
      "metadata": {
        "colab": {
          "base_uri": "https://localhost:8080/",
          "height": 473
        },
        "id": "QWJEvh3G_4Hk",
        "outputId": "b2cf58a8-4da7-45ef-9bdb-68471a86190d"
      },
      "execution_count": 102,
      "outputs": [
        {
          "output_type": "display_data",
          "data": {
            "text/plain": [
              "<Figure size 640x480 with 1 Axes>"
            ],
            "image/png": "[encoded data removed]"
          },
          "metadata": {}
        }
      ]
    },
    {
      "cell_type": "markdown",
      "source": [
        "성능 기반 스케줄링"
      ],
      "metadata": {
        "id": "s00MZajeADNQ"
      }
    },
    {
      "cell_type": "code",
      "source": [
        "model = build_model()\n",
        "optimizer = tf.keras.optimizers.SGD(learning_rate=lr0)\n",
        "model.compile(loss=\"sparse_categorical_crossentropy\", optimizer=optimizer,\n",
        "              metrics=[\"accuracy\"])"
      ],
      "metadata": {
        "id": "1PNcMU9tAB6x"
      },
      "execution_count": 103,
      "outputs": []
    },
    {
      "cell_type": "code",
      "source": [
        "lr_scheduler = tf.keras.callbacks.ReduceLROnPlateau(factor=0.5, patience=5)\n",
        "history = model.fit(X_train, y_train, epochs=n_epochs,\n",
        "                    validation_data=(X_valid, y_valid),\n",
        "                    callbacks=[lr_scheduler], verbose=0)"
      ],
      "metadata": {
        "id": "xBI95dggAHyg"
      },
      "execution_count": 104,
      "outputs": []
    },
    {
      "cell_type": "code",
      "source": [
        "plt.plot(history.epoch, history.history[\"lr\"], \"bo-\")\n",
        "plt.xlabel(\"에포크\")\n",
        "plt.ylabel(\"학습률\", color='b')\n",
        "plt.tick_params('y', colors='b')\n",
        "plt.gca().set_xlim(0, n_epochs - 1)\n",
        "plt.grid(True)\n",
        "\n",
        "ax2 = plt.gca().twinx()\n",
        "ax2.plot(history.epoch, history.history[\"val_loss\"], \"r^-\")\n",
        "ax2.set_ylabel('검증 손실', color='r')\n",
        "ax2.tick_params('y', colors='r')\n",
        "\n",
        "plt.title(\"평탄 지역에서 LR 감소하기\", fontsize=14)\n",
        "plt.show()"
      ],
      "metadata": {
        "colab": {
          "base_uri": "https://localhost:8080/",
          "height": 473
        },
        "id": "j33X4SNMALeZ",
        "outputId": "8b3e1fb6-1821-4f3d-849f-5e14e64e1850"
      },
      "execution_count": 105,
      "outputs": [
        {
          "output_type": "display_data",
          "data": {
            "text/plain": [
              "<Figure size 640x480 with 2 Axes>"
            ],
            "image/png": "[encoded data removed]"
          },
          "metadata": {}
        }
      ]
    },
    {
      "cell_type": "markdown",
      "source": [
        "# 11.4 규제를 사용해 과대적합 피하기"
      ],
      "metadata": {
        "id": "S_Qnmf8HAZ7h"
      }
    },
    {
      "cell_type": "markdown",
      "source": [
        "l1과 l2 규제"
      ],
      "metadata": {
        "id": "SHd4l3pZAd8M"
      }
    },
    {
      "cell_type": "code",
      "source": [
        "layer = tf.keras.layers.Dense(100, activation=\"relu\",\n",
        "                              kernel_initializer=\"he_normal\",\n",
        "                              kernel_regularizer=tf.keras.regularizers.l2(0.01))"
      ],
      "metadata": {
        "id": "94bSx5dCAP3j"
      },
      "execution_count": 106,
      "outputs": []
    },
    {
      "cell_type": "code",
      "source": [
        "tf.random.set_seed(42)"
      ],
      "metadata": {
        "id": "Rgi_XWgrAhYh"
      },
      "execution_count": 107,
      "outputs": []
    },
    {
      "cell_type": "code",
      "source": [
        "from functools import partial\n",
        "\n",
        "RegularizedDense = partial(tf.keras.layers.Dense,\n",
        "                           activation=\"relu\",\n",
        "                           kernel_initializer=\"he_normal\",\n",
        "                           kernel_regularizer=tf.keras.regularizers.l2(0.01))"
      ],
      "metadata": {
        "id": "TogVaBJ-BIku"
      },
      "execution_count": 108,
      "outputs": []
    },
    {
      "cell_type": "code",
      "source": [
        "model = tf.keras.Sequential([\n",
        "    tf.keras.layers.Flatten(input_shape=[28, 28]),\n",
        "    RegularizedDense(100),\n",
        "    RegularizedDense(100),\n",
        "    RegularizedDense(10, activation=\"softmax\")\n",
        "])"
      ],
      "metadata": {
        "id": "B7AkusNyBcDQ"
      },
      "execution_count": 109,
      "outputs": []
    },
    {
      "cell_type": "code",
      "source": [
        "optimizer = tf.keras.optimizers.SGD(learning_rate=0.02)\n",
        "model.compile(loss=\"sparse_categorical_crossentropy\", optimizer=optimizer,\n",
        "              metrics=[\"accuracy\"])\n",
        "history = model.fit(X_train, y_train, epochs=2,\n",
        "                    validation_data=(X_valid, y_valid))"
      ],
      "metadata": {
        "colab": {
          "base_uri": "https://localhost:8080/"
        },
        "id": "4YWdRiWiBoYW",
        "outputId": "8ff20050-d6b1-482b-ebd9-7f878f639060"
      },
      "execution_count": 97,
      "outputs": [
        {
          "output_type": "stream",
          "name": "stdout",
          "text": [
            "Epoch 1/2\n",
            "1719/1719 [==============================] - 9s 3ms/step - loss: 0.3402 - accuracy: 0.8756 - val_loss: 0.3596 - val_accuracy: 0.8712\n",
            "Epoch 2/2\n",
            "1719/1719 [==============================] - 7s 4ms/step - loss: 0.3185 - accuracy: 0.8846 - val_loss: 0.3890 - val_accuracy: 0.8490\n"
          ]
        }
      ]
    },
    {
      "cell_type": "markdown",
      "source": [
        "드롭아웃"
      ],
      "metadata": {
        "id": "EbBzmj58ClhE"
      }
    },
    {
      "cell_type": "code",
      "source": [
        "tf.random.set_seed(42)"
      ],
      "metadata": {
        "id": "_UeqrFGpCBBP"
      },
      "execution_count": 110,
      "outputs": []
    },
    {
      "cell_type": "code",
      "source": [
        "model = tf.keras.Sequential([\n",
        "    tf.keras.layers.Flatten(input_shape=[28, 28]),\n",
        "    tf.keras.layers.Dropout(rate=0.2),\n",
        "    tf.keras.layers.Dense(100, activation=\"relu\",\n",
        "                          kernel_initializer=\"he_normal\"),\n",
        "    tf.keras.layers.Dropout(rate=0.2),\n",
        "    tf.keras.layers.Dense(100, activation=\"relu\",\n",
        "                          kernel_initializer=\"he_normal\"),\n",
        "    tf.keras.layers.Dropout(rate=0.2),\n",
        "    tf.keras.layers.Dense(10, activation=\"softmax\")\n",
        "])"
      ],
      "metadata": {
        "id": "CPeIzkAkCnbe"
      },
      "execution_count": 111,
      "outputs": []
    },
    {
      "cell_type": "code",
      "source": [
        "optimizer = tf.keras.optimizers.SGD(learning_rate=0.01, momentum=0.9)\n",
        "model.compile(loss=\"sparse_categorical_crossentropy\", optimizer=optimizer,\n",
        "              metrics=[\"accuracy\"])\n",
        "history = model.fit(X_train, y_train, epochs=10,\n",
        "                    validation_data=(X_valid, y_valid), verbose=0)"
      ],
      "metadata": {
        "id": "RVSAWn61CqMm"
      },
      "execution_count": 112,
      "outputs": []
    },
    {
      "cell_type": "code",
      "source": [
        "model.evaluate(X_train, y_train)"
      ],
      "metadata": {
        "colab": {
          "base_uri": "https://localhost:8080/"
        },
        "id": "-h1XSXIyCtpt",
        "outputId": "e585f388-f7ba-46d2-e989-0872c22c9d6a"
      },
      "execution_count": 113,
      "outputs": [
        {
          "output_type": "stream",
          "name": "stdout",
          "text": [
            "1719/1719 [==============================] - 5s 3ms/step - loss: 0.3180 - accuracy: 0.8825\n"
          ]
        },
        {
          "output_type": "execute_result",
          "data": {
            "text/plain": [
              "[0.3179911971092224, 0.8825091123580933]"
            ]
          },
          "metadata": {},
          "execution_count": 113
        }
      ]
    },
    {
      "cell_type": "code",
      "source": [
        "model.evaluate(X_test, y_test)"
      ],
      "metadata": {
        "colab": {
          "base_uri": "https://localhost:8080/"
        },
        "id": "In7t1QTDCvQA",
        "outputId": "5cd10744-42df-445d-92af-a69c016ed947"
      },
      "execution_count": 114,
      "outputs": [
        {
          "output_type": "stream",
          "name": "stdout",
          "text": [
            "313/313 [==============================] - 1s 2ms/step - loss: 0.3727 - accuracy: 0.8643\n"
          ]
        },
        {
          "output_type": "execute_result",
          "data": {
            "text/plain": [
              "[0.37266653776168823, 0.864300012588501]"
            ]
          },
          "metadata": {},
          "execution_count": 114
        }
      ]
    },
    {
      "cell_type": "markdown",
      "source": [
        "몬테 카를로 드롭아웃"
      ],
      "metadata": {
        "id": "4flEcu54C1sT"
      }
    },
    {
      "cell_type": "code",
      "source": [
        "tf.random.set_seed(42)"
      ],
      "metadata": {
        "id": "A1X2snWFCwns"
      },
      "execution_count": 115,
      "outputs": []
    },
    {
      "cell_type": "code",
      "source": [
        "y_probas = np.stack([model(X_test, training=True)\n",
        "                     for sample in range(100)])\n",
        "y_proba = y_probas.mean(axis=0)"
      ],
      "metadata": {
        "id": "gdFoPNZ4C5Po"
      },
      "execution_count": 116,
      "outputs": []
    },
    {
      "cell_type": "code",
      "source": [
        "model.predict(X_test[:1]).round(3)"
      ],
      "metadata": {
        "colab": {
          "base_uri": "https://localhost:8080/"
        },
        "id": "--zftz4HC6Xd",
        "outputId": "121d4bfb-8106-423a-801f-b7fe9e7dfeff"
      },
      "execution_count": 117,
      "outputs": [
        {
          "output_type": "stream",
          "name": "stdout",
          "text": [
            "1/1 [==============================] - 0s 118ms/step\n"
          ]
        },
        {
          "output_type": "execute_result",
          "data": {
            "text/plain": [
              "array([[0.   , 0.   , 0.   , 0.   , 0.   , 0.011, 0.   , 0.219, 0.   ,\n",
              "        0.771]], dtype=float32)"
            ]
          },
          "metadata": {},
          "execution_count": 117
        }
      ]
    },
    {
      "cell_type": "code",
      "source": [
        "y_proba[0].round(3)"
      ],
      "metadata": {
        "colab": {
          "base_uri": "https://localhost:8080/"
        },
        "id": "dUVTSWwGC7kk",
        "outputId": "b1d4b1e4-8889-48d3-8261-941d3570d2c6"
      },
      "execution_count": 118,
      "outputs": [
        {
          "output_type": "execute_result",
          "data": {
            "text/plain": [
              "array([0.   , 0.   , 0.   , 0.   , 0.   , 0.031, 0.   , 0.244, 0.002,\n",
              "       0.722], dtype=float32)"
            ]
          },
          "metadata": {},
          "execution_count": 118
        }
      ]
    },
    {
      "cell_type": "code",
      "source": [
        "class MCDropout(tf.keras.layers.Dropout):\n",
        "    def call(self, inputs, training=None):\n",
        "        return super().call(inputs, training=True)"
      ],
      "metadata": {
        "id": "x2-HfhjYC8nK"
      },
      "execution_count": 119,
      "outputs": []
    },
    {
      "cell_type": "code",
      "source": [
        "# 추가 코드 - 시퀀셜 모델에서 Dropout을 MCDropout으로 변환하는 방법을 보여줍니다.\n",
        "Dropout = tf.keras.layers.Dropout\n",
        "mc_model = tf.keras.Sequential([\n",
        "    MCDropout(layer.rate) if isinstance(layer, Dropout) else layer\n",
        "    for layer in model.layers\n",
        "])\n",
        "mc_model.set_weights(model.get_weights())"
      ],
      "metadata": {
        "id": "mdBroOB_C-Of"
      },
      "execution_count": 120,
      "outputs": []
    },
    {
      "cell_type": "code",
      "source": [
        "mc_model.summary()"
      ],
      "metadata": {
        "colab": {
          "base_uri": "https://localhost:8080/"
        },
        "id": "wgi8t4tRC_6d",
        "outputId": "0426793a-f02d-4ca5-b81b-1a7b5ecdb437"
      },
      "execution_count": 121,
      "outputs": [
        {
          "output_type": "stream",
          "name": "stdout",
          "text": [
            "Model: \"sequential_23\"\n",
            "_________________________________________________________________\n",
            " Layer (type)                Output Shape              Param #   \n",
            "=================================================================\n",
            " flatten_20 (Flatten)        (None, 784)               0         \n",
            "                                                                 \n",
            " mc_dropout (MCDropout)      (None, 784)               0         \n",
            "                                                                 \n",
            " dense_82 (Dense)            (None, 100)               78500     \n",
            "                                                                 \n",
            " mc_dropout_1 (MCDropout)    (None, 100)               0         \n",
            "                                                                 \n",
            " dense_83 (Dense)            (None, 100)               10100     \n",
            "                                                                 \n",
            " mc_dropout_2 (MCDropout)    (None, 100)               0         \n",
            "                                                                 \n",
            " dense_84 (Dense)            (None, 10)                1010      \n",
            "                                                                 \n",
            "=================================================================\n",
            "Total params: 89610 (350.04 KB)\n",
            "Trainable params: 89610 (350.04 KB)\n",
            "Non-trainable params: 0 (0.00 Byte)\n",
            "_________________________________________________________________\n"
          ]
        }
      ]
    },
    {
      "cell_type": "markdown",
      "source": [
        "맥스-노름 규제"
      ],
      "metadata": {
        "id": "EtKAjxAFDC6-"
      }
    },
    {
      "cell_type": "code",
      "source": [
        "dense = tf.keras.layers.Dense(\n",
        "    100, activation=\"relu\", kernel_initializer=\"he_normal\",\n",
        "    kernel_constraint=tf.keras.constraints.max_norm(1.))"
      ],
      "metadata": {
        "id": "gktP3R53DBJG"
      },
      "execution_count": 122,
      "outputs": []
    },
    {
      "cell_type": "code",
      "source": [
        "# 모델의 모든 은닉층에 맥스-노름을 적용하는 방법을 보여줍니다.\n",
        "MaxNormDense = partial(tf.keras.layers.Dense,\n",
        "                       activation=\"relu\", kernel_initializer=\"he_normal\",\n",
        "                       kernel_constraint=tf.keras.constraints.max_norm(1.))\n",
        "\n",
        "tf.random.set_seed(42)\n",
        "model = tf.keras.Sequential([\n",
        "    tf.keras.layers.Flatten(input_shape=[28, 28]),\n",
        "    MaxNormDense(100),\n",
        "    MaxNormDense(100),\n",
        "    tf.keras.layers.Dense(10, activation=\"softmax\")\n",
        "])\n",
        "optimizer = tf.keras.optimizers.SGD(learning_rate=0.01, momentum=0.9)\n",
        "model.compile(loss=\"sparse_categorical_crossentropy\", optimizer=optimizer,\n",
        "              metrics=[\"accuracy\"])\n",
        "history = model.fit(X_train, y_train, epochs=10,\n",
        "                    validation_data=(X_valid, y_valid), verbose=0)"
      ],
      "metadata": {
        "id": "sPN-UWOrDGe3"
      },
      "execution_count": 123,
      "outputs": []
    }
  ]
}